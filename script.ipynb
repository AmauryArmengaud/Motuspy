{
 "cells": [
  {
   "cell_type": "code",
   "execution_count": 160,
   "metadata": {},
   "outputs": [],
   "source": [
    "import csv\n",
    "import random"
   ]
  },
  {
   "cell_type": "code",
   "execution_count": 161,
   "metadata": {},
   "outputs": [],
   "source": [
    "with open('liste_francais.csv', newline='', encoding='utf-8') as f:\n",
    "    mots_jeu = [row[0] for row in csv.reader(f)]"
   ]
  },
  {
   "cell_type": "code",
   "execution_count": 162,
   "metadata": {},
   "outputs": [],
   "source": [
    "word_len = 8\n",
    "mot_secret = random.choice([word for word in mots_jeu if len(word)==word_len])"
   ]
  },
  {
   "cell_type": "code",
   "execution_count": 163,
   "metadata": {},
   "outputs": [],
   "source": [
    "list_mot_secret = list(mot_secret)"
   ]
  },
  {
   "cell_type": "code",
   "execution_count": 164,
   "metadata": {},
   "outputs": [],
   "source": [
    "list_mot_secret_mute = [\".\"] * word_len\n",
    "list_mot_secret_mute[0] = list_mot_secret[0]\n",
    "list_mot_secret_mute[word_len-1] = list_mot_secret[word_len-1]"
   ]
  },
  {
   "cell_type": "code",
   "execution_count": 165,
   "metadata": {},
   "outputs": [
    {
     "name": "stdout",
     "output_type": "stream",
     "text": [
      "d . . . . . . é\n"
     ]
    }
   ],
   "source": [
    "print(*list_mot_secret_mute, sep=\" \")"
   ]
  },
  {
   "cell_type": "code",
   "execution_count": 169,
   "metadata": {},
   "outputs": [
    {
     "name": "stdout",
     "output_type": "stream",
     "text": [
      "d_ e e e e e e é_\n",
      "loose\n"
     ]
    }
   ],
   "source": [
    "while list_mot_secret != list_mot_secret_mute:\n",
    "    input_word = input(\"Quel mot ?\")\n",
    "    if len(input_word) != word_len:\n",
    "        print('loose')\n",
    "        break\n",
    "    list_input_word = list(input_word)\n",
    "    if input_word == list_mot_secret:\n",
    "        print('win')\n",
    "        break\n",
    "    for count, value in enumerate(list_input_word):\n",
    "        if value == list_mot_secret[count]:\n",
    "            list_input_word[count] = list_mot_secret[count] + \"_\"\n",
    "            list_mot_secret_mute[count] = list_mot_secret[count]\n",
    "        elif value in list_mot_secret:\n",
    "            list_input_word[count] = list_input_word[count] + \"*\"\n",
    "    print(*list_input_word, sep=\" \")\n",
    "    print(*list_mot_secret_mute, sep=\" \")\n"
   ]
  },
  {
   "cell_type": "code",
   "execution_count": null,
   "metadata": {},
   "outputs": [],
   "source": []
  }
 ],
 "metadata": {
  "interpreter": {
   "hash": "f7f64ac8fb74950701cea420ad3b384bd542533bd80c9eae4a1d9187840aed49"
  },
  "kernelspec": {
   "display_name": "Python 3.9.6 64-bit",
   "language": "python",
   "name": "python3"
  },
  "language_info": {
   "codemirror_mode": {
    "name": "ipython",
    "version": 3
   },
   "file_extension": ".py",
   "mimetype": "text/x-python",
   "name": "python",
   "nbconvert_exporter": "python",
   "pygments_lexer": "ipython3",
   "version": "3.9.6"
  },
  "orig_nbformat": 4
 },
 "nbformat": 4,
 "nbformat_minor": 2
}
